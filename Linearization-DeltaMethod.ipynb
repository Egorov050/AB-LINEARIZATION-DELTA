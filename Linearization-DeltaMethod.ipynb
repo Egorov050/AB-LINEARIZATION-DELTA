{
 "cells": [
  {
   "cell_type": "code",
   "execution_count": 92,
   "id": "14653b39-f97e-4328-b512-3c62190452df",
   "metadata": {},
   "outputs": [],
   "source": [
    "import pandas as pd\n",
    "import scipy.stats as stats"
   ]
  },
  {
   "cell_type": "code",
   "execution_count": 13,
   "id": "5bf84dee-d219-4824-89ce-de0e8c3ce6b1",
   "metadata": {},
   "outputs": [],
   "source": [
    "df = pd.read_excel('/Users/vladimiregorov/Downloads/[karpov.courses, Александр Сахнов, Валерий Бабушкин, Николай Назаров] Симулятор A - B тестов (2022) 2/уроки/dd.xlsx')"
   ]
  },
  {
   "cell_type": "code",
   "execution_count": 15,
   "id": "783624f5-8123-424d-99fb-4ca17ee1cdcf",
   "metadata": {},
   "outputs": [],
   "source": [
    "df = df.drop(columns=('Unnamed: 0'))"
   ]
  },
  {
   "cell_type": "code",
   "execution_count": 177,
   "id": "21118efe-c4ce-46f9-9a47-26694a14349b",
   "metadata": {},
   "outputs": [
    {
     "data": {
      "text/html": [
       "<div>\n",
       "<style scoped>\n",
       "    .dataframe tbody tr th:only-of-type {\n",
       "        vertical-align: middle;\n",
       "    }\n",
       "\n",
       "    .dataframe tbody tr th {\n",
       "        vertical-align: top;\n",
       "    }\n",
       "\n",
       "    .dataframe thead th {\n",
       "        text-align: right;\n",
       "    }\n",
       "</style>\n",
       "<table border=\"1\" class=\"dataframe\">\n",
       "  <thead>\n",
       "    <tr style=\"text-align: right;\">\n",
       "      <th></th>\n",
       "      <th>Xc</th>\n",
       "      <th>Yc</th>\n",
       "      <th>Xt</th>\n",
       "      <th>Yt</th>\n",
       "    </tr>\n",
       "  </thead>\n",
       "  <tbody>\n",
       "    <tr>\n",
       "      <th>0</th>\n",
       "      <td>797</td>\n",
       "      <td>6</td>\n",
       "      <td>606</td>\n",
       "      <td>5</td>\n",
       "    </tr>\n",
       "    <tr>\n",
       "      <th>1</th>\n",
       "      <td>639</td>\n",
       "      <td>5</td>\n",
       "      <td>493</td>\n",
       "      <td>6</td>\n",
       "    </tr>\n",
       "    <tr>\n",
       "      <th>2</th>\n",
       "      <td>977</td>\n",
       "      <td>9</td>\n",
       "      <td>499</td>\n",
       "      <td>6</td>\n",
       "    </tr>\n",
       "    <tr>\n",
       "      <th>3</th>\n",
       "      <td>511</td>\n",
       "      <td>5</td>\n",
       "      <td>607</td>\n",
       "      <td>7</td>\n",
       "    </tr>\n",
       "    <tr>\n",
       "      <th>4</th>\n",
       "      <td>781</td>\n",
       "      <td>7</td>\n",
       "      <td>451</td>\n",
       "      <td>4</td>\n",
       "    </tr>\n",
       "  </tbody>\n",
       "</table>\n",
       "</div>"
      ],
      "text/plain": [
       "    Xc  Yc   Xt  Yt\n",
       "0  797   6  606   5\n",
       "1  639   5  493   6\n",
       "2  977   9  499   6\n",
       "3  511   5  607   7\n",
       "4  781   7  451   4"
      ]
     },
     "execution_count": 177,
     "metadata": {},
     "output_type": "execute_result"
    }
   ],
   "source": [
    "df.head()"
   ]
  },
  {
   "cell_type": "code",
   "execution_count": null,
   "id": "688c6154-7dbc-44cd-9cbd-0cf9fcb0147f",
   "metadata": {},
   "outputs": [],
   "source": [
    "Xc - контрольная выборка по X\n",
    "Yc - контрольная выборка по Y\n",
    "\n",
    "Xt - тестовая выборка по X\n",
    "Yt - тестовая выборка по Y"
   ]
  },
  {
   "cell_type": "markdown",
   "id": "68aea2cc-678d-4a58-b6ab-2abda5217d16",
   "metadata": {},
   "source": [
    "#### Дельта - метод "
   ]
  },
  {
   "cell_type": "markdown",
   "id": "8c85ba9f-db13-45fe-9b99-ee4807e2c635",
   "metadata": {},
   "source": [
    "$$\n",
    "t_{value} = \\frac{R_b - R_a}{\\sqrt{V(R_a) + V(R_b))}}\n",
    "$$"
   ]
  },
  {
   "cell_type": "markdown",
   "id": "d0d1887e-b5e6-4476-bc66-908b8c0a5d0f",
   "metadata": {},
   "source": [
    "$$\n",
    "\\text{Var}\\left(\\frac{Y}{X}\\right) \\approx (\\frac{1}{n})*(\\frac{1}{\\mathbb{E}(Y)^2} \\text{Var}(X) + \\frac{\\mathbb{E}(X)^2}{\\mathbb{E}(Y)^4} \\text{Var}(Y) - 2 \\frac{\\mathbb{E}(X)}{\\mathbb{E}(Y)^3} \\text{Cov}(X, Y))\n",
    "$$"
   ]
  },
  {
   "cell_type": "code",
   "execution_count": 175,
   "id": "a712c7fe-3cd5-4f86-84fb-2b14b4eca145",
   "metadata": {},
   "outputs": [
    {
     "data": {
      "text/plain": [
       "2.0042960647247656"
      ]
     },
     "execution_count": 175,
     "metadata": {},
     "output_type": "execute_result"
    }
   ],
   "source": [
    "# Размеры групп\n",
    "Nc = len(df['Xc'])\n",
    "Nt = len(df['Xt'])\n",
    "\n",
    "# Отношения для контрольной и тестовой групп\n",
    "Rc = df['Xc'].sum() / df['Yc'].sum()\n",
    "Rt = df['Xt'].sum() / df['Yt'].sum()\n",
    "\n",
    "# Средние значения для контрольной группы\n",
    "EXc = df['Xc'].mean()\n",
    "EYc = df['Yc'].mean()\n",
    "\n",
    "# Средние значения для тестовой группы\n",
    "EXt = df['Xt'].mean()\n",
    "EYt = df['Yt'].mean()\n",
    "\n",
    "# Дисперсии для контрольной группы\n",
    "VarXc = np.var(df['Xc'], ddof=0)\n",
    "VarYc = np.var(df['Yc'], ddof=0)\n",
    "\n",
    "# Ковариация для контрольной группы\n",
    "CovC = np.cov(df['Xc'], df['Yc'])[0, 1]\n",
    "\n",
    "# Дисперсии для тестовой группы\n",
    "VarXt = np.var(df['Xt'], ddof=0)\n",
    "VarYt = np.var(df['Yt'], ddof=0)\n",
    "\n",
    "# Ковариация для тестовой группы\n",
    "CovT = np.cov(df['Xt'], df['Yt'])[0, 1]\n",
    "\n",
    "# Дисперсия контрольной и тестовой метрик\n",
    "VarC = (1 / Nc) * ((1 / EYc**2) * VarXc + (EXc**2 / EYc**4) * VarYc - 2 * (EXc / EYc**3) * CovC)\n",
    "VarT = (1 / Nc) * ((1 / EYt**2) * VarXt + (EXt**2 / EYt**4) * VarYt - 2 * (EXt / EYt**3) * CovT)\n",
    "\n",
    "\n",
    "t_value = (Rc - Rt) / (np.sqrt(VarC + VarT))\n",
    "\n",
    "\n",
    "t_value\n"
   ]
  },
  {
   "cell_type": "markdown",
   "id": "773be397-5b8a-4570-ad18-1424cc3a2c45",
   "metadata": {},
   "source": [
    "#### Линеаризация"
   ]
  },
  {
   "cell_type": "markdown",
   "id": "57bba83d-3a3a-4fa5-b5a6-c368459a87ad",
   "metadata": {},
   "source": [
    "$$\n",
    "L(u) = X(u) - R*Y(u)\n",
    "$$"
   ]
  },
  {
   "cell_type": "code",
   "execution_count": 111,
   "id": "73d4864f-86aa-400e-9c19-0ab145df91aa",
   "metadata": {},
   "outputs": [],
   "source": [
    "Lc = abs(df['Xc'] - Rc * df['Yc'])\n",
    "Lt = abs(df['Xt'] - Rt * df['Yt'])"
   ]
  },
  {
   "cell_type": "code",
   "execution_count": 180,
   "id": "36e80ff4-3a32-486e-b117-092e1a1717e2",
   "metadata": {},
   "outputs": [
    {
     "data": {
      "text/plain": [
       "2.343903635876662"
      ]
     },
     "execution_count": 180,
     "metadata": {},
     "output_type": "execute_result"
    }
   ],
   "source": [
    "t_value,p_value = stats.ttest_ind(Lc,Lt, alternative='two-sided' )\n",
    "t_value"
   ]
  },
  {
   "cell_type": "markdown",
   "id": "53d298e0-7425-44fe-929a-8c743805223e",
   "metadata": {},
   "source": []
  },
  {
   "cell_type": "markdown",
   "id": "08456c92-036a-4cfa-9270-d60c1ca7aab0",
   "metadata": {},
   "source": []
  },
  {
   "cell_type": "markdown",
   "id": "3b131444-f684-49e5-9bcd-443767343931",
   "metadata": {},
   "source": [
    "По итогу видим, что t-value при линеаризации более убедительный, чем при дельта-методе"
   ]
  }
 ],
 "metadata": {
  "kernelspec": {
   "display_name": "Python 3 (ipykernel)",
   "language": "python",
   "name": "python3"
  },
  "language_info": {
   "codemirror_mode": {
    "name": "ipython",
    "version": 3
   },
   "file_extension": ".py",
   "mimetype": "text/x-python",
   "name": "python",
   "nbconvert_exporter": "python",
   "pygments_lexer": "ipython3",
   "version": "3.9.12"
  }
 },
 "nbformat": 4,
 "nbformat_minor": 5
}
